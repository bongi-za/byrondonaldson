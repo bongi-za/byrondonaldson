{
 "cells": [
  {
   "cell_type": "code",
   "execution_count": 1,
   "id": "3b359e53",
   "metadata": {},
   "outputs": [],
   "source": [
    "import pandas as pd\n",
    "import folium\n",
    "import numpy as np"
   ]
  },
  {
   "cell_type": "code",
   "execution_count": 2,
   "id": "72f0d5d2",
   "metadata": {},
   "outputs": [],
   "source": [
    "# load data\n",
    "routes = pd.read_csv('all_gpx_routes.csv')"
   ]
  },
  {
   "cell_type": "code",
   "execution_count": 3,
   "id": "0f0113f2",
   "metadata": {},
   "outputs": [],
   "source": [
    "# remove NA values\n",
    "routes_clean = routes.dropna()\n",
    "# remove missing values\n",
    "routes_clean = routes_clean[(routes_clean['latitude'] != '') & (routes_clean['longitude'] != '')]"
   ]
  },
  {
   "cell_type": "code",
   "execution_count": 5,
   "id": "a347e380",
   "metadata": {},
   "outputs": [
    {
     "data": {
      "text/plain": [
       "<folium.raster_layers.TileLayer at 0x7f9a5fba6750>"
      ]
     },
     "execution_count": 5,
     "metadata": {},
     "output_type": "execute_result"
    }
   ],
   "source": [
    "# create base map with folium\n",
    "my_map = folium.Map()\n",
    "folium.TileLayer(tiles = 'https://server.arcgisonline.com/ArcGIS/rest/services/World_Imagery/MapServer/tile/{z}/{y}/{x}',\n",
    "                attr = 'Esri',\n",
    "                name = 'Esri Satellite',\n",
    "                overlay = False,\n",
    "                control = True).add_to(my_map)"
   ]
  },
  {
   "cell_type": "code",
   "execution_count": 7,
   "id": "2cf1265b",
   "metadata": {},
   "outputs": [],
   "source": [
    "# add running routes to map\n",
    "\n",
    "for ID in routes_clean['ID'].unique():\n",
    "    # Filter data for the current ID\n",
    "    filtered_data = routes_clean[routes_clean['ID'] == ID]\n",
    "    \n",
    "    # Create a polyline using the filtered data\n",
    "    folium.PolyLine(\n",
    "        locations = filtered_data[['latitude', 'longitude']].values.tolist(),\n",
    "        color = 'red',\n",
    "        weight = 2.5,\n",
    "        opacity = 0.6\n",
    "    ).add_to(my_map)"
   ]
  },
  {
   "cell_type": "code",
   "execution_count": 8,
   "id": "e03d0af7",
   "metadata": {},
   "outputs": [],
   "source": [
    "# save map as html\n",
    "my_map.save('running_map_folium.html')"
   ]
  }
 ],
 "metadata": {
  "kernelspec": {
   "display_name": "Python 3",
   "language": "python",
   "name": "python3"
  },
  "language_info": {
   "codemirror_mode": {
    "name": "ipython",
    "version": 3
   },
   "file_extension": ".py",
   "mimetype": "text/x-python",
   "name": "python",
   "nbconvert_exporter": "python",
   "pygments_lexer": "ipython3",
   "version": "3.7.10"
  }
 },
 "nbformat": 4,
 "nbformat_minor": 5
}
